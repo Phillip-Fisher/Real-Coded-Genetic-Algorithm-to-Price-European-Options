{
 "cells": [
  {
   "cell_type": "code",
   "execution_count": 351,
   "metadata": {},
   "outputs": [],
   "source": [
    "#libraries used in this code\n",
    "import numpy as np\n",
    "import random\n",
    "from numpy import sort"
   ]
  },
  {
   "cell_type": "code",
   "execution_count": 461,
   "metadata": {},
   "outputs": [],
   "source": [
    "def fitness(child):\n",
    "    x0 = child[0,0]\n",
    "    x1 = child[0,1]\n",
    "    return 0.25*x0**4 + -0.5*x0**2 + 0.1*x0 +0.5*x1**2"
   ]
  },
  {
   "cell_type": "code",
   "execution_count": 462,
   "metadata": {},
   "outputs": [],
   "source": [
    "def innit(chromosomes,variables,uppper_limit,lower_limit):\n",
    "    rows = chromosomes\n",
    "    cols = variables\n",
    "    u = uppper_limit\n",
    "    l = lower_limit\n",
    "    pop = np.zeros([rows,cols+1])\n",
    "    child = np.zeros([1,variables])\n",
    "    for i in range(rows):\n",
    "        for j in range(cols):\n",
    "            child[0,j]= int(-5 + (u - -l)*random.randint(l,u))\n",
    "            pop[i,j] = child[0,j]\n",
    "            pop[i,j+1] = fitness(child) \n",
    "        \n",
    "    return pop"
   ]
  },
  {
   "cell_type": "code",
   "execution_count": 463,
   "metadata": {},
   "outputs": [],
   "source": [
    "pop=innit(20,2,6,-5)"
   ]
  },
  {
   "cell_type": "code",
   "execution_count": 490,
   "metadata": {},
   "outputs": [],
   "source": [
    "def crossover(pop):\n",
    "    i = random.randint(0,len(pop)-2)\n",
    "    parent0 = pop[i,0:2]\n",
    "    parent1 = pop[i+1,0:2]\n",
    "    alpha = -1.5 +2 *random.uniform(-0.5,1.5)\n",
    "    child0 = np.zeros([1,2])\n",
    "    child1 = np.zeros([1,2])\n",
    "    for i in range(2):\n",
    "        child0[0,i] = alpha*parent0[i] + (1-alpha)*parent1[i]\n",
    "        child1[0,i] = (1-alpha)*parent0[i] + alpha*parent1[i]\n",
    "        \n",
    "    for i in range(2):\n",
    "        if child0[0,i] > 6 or child0[0,i] < -5  and child1[0,i] > 6 or child1[0,i]:\n",
    "            child0[0,i] = -5 + (6 - -5)*random.uniform(0,1)\n",
    "            child1[0,i] = -5 + (6 - -5)*random.uniform(0,1)\n",
    "\n",
    "    return (child0,child1)"
   ]
  },
  {
   "cell_type": "code",
   "execution_count": 491,
   "metadata": {},
   "outputs": [
    {
     "data": {
      "text/plain": [
       "array([ 4.02541323,  4.42112353, 67.71574475])"
      ]
     },
     "execution_count": 491,
     "metadata": {},
     "output_type": "execute_result"
    }
   ],
   "source": [
    "child0,child1=crossover(pop)\n",
    "child0 =np.append(child0,fitness(child0))\n",
    "child0\n",
    "child1=np.append(child1,fitness(child1))\n",
    "child1"
   ]
  },
  {
   "cell_type": "code",
   "execution_count": 552,
   "metadata": {},
   "outputs": [],
   "source": [
    "def tournament(pop):\n",
    "    length = len(pop)/2\n",
    "    n1,n2=0,0\n",
    "    for j in range(2):\n",
    "        while n1==n2:\n",
    "            n1,n2 = 1+int(2*np.random.uniform(0,length-1)),1+ int(2*np.random.uniform(0,length-1))\n",
    "            if pop[n1,2] < pop[n2,2]:\n",
    "                pop[n2]= pop[n1]\n",
    "            else:\n",
    "                pop[n1] =pop[n2]\n",
    "    return pop"
   ]
  },
  {
   "cell_type": "code",
   "execution_count": null,
   "metadata": {},
   "outputs": [],
   "source": []
  },
  {
   "cell_type": "code",
   "execution_count": 553,
   "metadata": {},
   "outputs": [],
   "source": [
    "def sort(pop):\n",
    "    return pop[np.argsort(pop[:, 2])]\n"
   ]
  },
  {
   "cell_type": "code",
   "execution_count": 690,
   "metadata": {},
   "outputs": [],
   "source": [
    "def run():\n",
    "    i = 25\n",
    "    pop=innit(20,2,6,-5)\n",
    "    while i:\n",
    "        l = random.randint(0,18)\n",
    "        tournament(pop)\n",
    "        child0,child1=crossover(pop)\n",
    "        child0,child1 = np.append(child0,fitness(child0)),np.append(child1,fitness(child1))\n",
    "        pop[int(len(pop/2)-1)]=child0\n",
    "        pop[int((len(pop)/2)+1)]=child1\n",
    "        pop=sort(pop)\n",
    "        i-=1\n",
    "    return pop"
   ]
  },
  {
   "cell_type": "code",
   "execution_count": 701,
   "metadata": {},
   "outputs": [
    {
     "data": {
      "text/plain": [
       "array([-1.  ,  0.  , -0.35])"
      ]
     },
     "execution_count": 701,
     "metadata": {},
     "output_type": "execute_result"
    }
   ],
   "source": [
    "pop=run()\n",
    "\n"
   ]
  },
  {
   "cell_type": "code",
   "execution_count": 704,
   "metadata": {},
   "outputs": [
    {
     "name": "stdout",
     "output_type": "stream",
     "text": [
      "The best solution  for 25 iteratoins is:  -0.35 for (x1,x2) =  ( -1.0 , 0.0 )\n"
     ]
    }
   ],
   "source": [
    "print(\"The best solution  for 25 iteratoins is: \",pop[0,2],\"for (x1,x2) = \",'(',pop[0,0],',',pop[0,1],')')"
   ]
  },
  {
   "cell_type": "code",
   "execution_count": null,
   "metadata": {},
   "outputs": [],
   "source": []
  }
 ],
 "metadata": {
  "kernelspec": {
   "display_name": "Python 3",
   "language": "python",
   "name": "python3"
  },
  "language_info": {
   "codemirror_mode": {
    "name": "ipython",
    "version": 3
   },
   "file_extension": ".py",
   "mimetype": "text/x-python",
   "name": "python",
   "nbconvert_exporter": "python",
   "pygments_lexer": "ipython3",
   "version": "3.7.4"
  }
 },
 "nbformat": 4,
 "nbformat_minor": 2
}
